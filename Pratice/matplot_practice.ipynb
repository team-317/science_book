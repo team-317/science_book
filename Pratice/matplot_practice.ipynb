{
 "cells": [
  {
   "cell_type": "markdown",
   "metadata": {},
   "source": [
    "## 数据的图表展示\n",
    "matplotlib提供了很多图形的绘制，但常用的就那么几种。假设我们的绘制任务是简单的，通常只需要绘制一张数据图，那便只需要掌握matplotlib的基本绘制其他用的少的现学现用。\n",
    "\n",
    "需要掌握的内容有：\n",
    "\n",
    "1.figure的各种属性的设置；\n",
    "\n",
    "2.饼图、折线图、直方图、二维函数图形、三维函数图形的绘制。"
   ]
  },
  {
   "cell_type": "markdown",
   "metadata": {},
   "source": [
    "### 基本图形的绘制\n",
    "\n",
    "#### Figure,Axes和Axis,以及Artist\n",
    "在matplotlib中，一个figure中可以包含多个axes，**可以认为figure是整张图，axes是figure中的一个子图**。\n",
    "\n",
    "axes是axis的复数形式，显然一个axes中包含了多个axis，即一个axes对象中可以有多条坐标轴，两条坐标轴形成的是二维坐标系，三条坐标轴形成三维坐标系。\n",
    "\n",
    "而Artist是画布中所有可见的对象，包括Text、Figure、Axes、Axis、Patch等"
   ]
  },
  {
   "cell_type": "code",
   "execution_count": null,
   "metadata": {},
   "outputs": [],
   "source": [
    "## 导入库\n",
    "import matplotlib.pyplot as plt\n",
    "import numpy as np"
   ]
  },
  {
   "cell_type": "markdown",
   "metadata": {},
   "source": [
    "#### subplots"
   ]
  },
  {
   "cell_type": "code",
   "execution_count": null,
   "metadata": {},
   "outputs": [],
   "source": [
    "## 关于subplots\n",
    "\n",
    "# subplots默认返回一个figure和一个axes，即只有一个子图\n",
    "fig, ax = plt.subplots()\n",
    "# 当需要生成多个子图时，使用元组解包返回的axes\n",
    "fig, ((ax1, ax2),(ax3, ax4)) = plt.subplots(2,2)\n",
    "\n",
    "# 设置参数layout='constrained'使子图的展示效果为自适应，这似乎是默认设置\n",
    "# 实际上这个参数在suplots中最后会传递给figure，最后这个figure作为返回值返回\n",
    "fig, (ax1,ax2) = plt.subplots(1,2, layout='constrained')\n",
    "# 也可以在figure中设置：\n",
    "fig.set_constrained_layout(True)\n",
    "\n",
    "# 指定整个figure的大小\n",
    "fig, ax = plt.subplots(figsize=(10,10))\n",
    "# 由于figsize最终传递给了figure对象，所以也可以直接通过fig进行设置\n",
    "fig.set_size_inches(10,10)\n",
    "\n",
    "# 设置sharex和sharey的值为True，使得全局的x轴和y轴的属性相同\n",
    "fig, (ax1, ax2) = plt.subplots(1,2,sharex='all', sharey=True)\n",
    "ax1.set_xlabel('a label')"
   ]
  },
  {
   "cell_type": "markdown",
   "metadata": {},
   "source": [
    "#### 散点图绘制"
   ]
  },
  {
   "cell_type": "code",
   "execution_count": null,
   "metadata": {},
   "outputs": [],
   "source": [
    "## 绘制散点图\n",
    "fig, ((ax1, ax2),(ax3, ax4)) = plt.subplots(2, 2, layout='constrained', figsize=(20,20))\n",
    "# 或者 fig, ax = plt.subplots() 也是一样的\n",
    "a = np.arange(50)\n",
    "b = np.random.randint(0,50,50)\n",
    "# 使随机生成的数据在数组a的上下浮动\n",
    "c = a + 2*np.random.randn(50)   # randn返回的数据服从正态分布，大小为(0,1)\n",
    "d = np.array([25]*50)\n",
    "# 一个一个绘制散点图，可以对每一份散点图进行diy\n",
    "ax1.scatter(a, a)\n",
    "ax1.scatter(a, b, c='r', linestyle='-') # 随机生成的数据\n",
    "ax1.scatter(a, c, c='b', s=5) # 接近于数组a的数据\n",
    "\n",
    "# 一起绘制多个散点图，需要注意，两个数组的shape要一致,不推荐\n",
    "ax2.scatter([a,a,a],[a,b,c], c='c', s=[a,b,c])\n",
    "\n",
    "# 或者使用字典，一次只画一个散点图\n",
    "data = {'a':a, 'b':b, 'c':c, 'd':d}\n",
    "ax3.scatter(x='a', y='c', c='d', data=data)\n",
    "# 注意，当传入data时，前面的参数x，y，s，c，linewidths等需要为字符或字符串\n",
    "# x='a'表示data['a'], c='c'表示的是data['c']\n"
   ]
  },
  {
   "cell_type": "markdown",
   "metadata": {},
   "source": [
    "**从上面的实践中可知，对于图形的绘制，只需要操作axes对象即可（上面只操作了ax1，ax2，ax3），而figure可以不做设置。**"
   ]
  },
  {
   "cell_type": "markdown",
   "metadata": {},
   "source": [
    "#### 标签、图例、文本、网格等\n",
    "由于subplots中只能设置全局的属性，例如画布的大小，figure的相关属性等，当要给子图（即axes对象）添加标签时，只能单独的进行设置。"
   ]
  },
  {
   "cell_type": "code",
   "execution_count": null,
   "metadata": {},
   "outputs": [],
   "source": [
    "## 设置附加信息：标签，标题等\n",
    "fig, ax = plt.subplots(figsize=(8,4))\n",
    "\n",
    "# 先绘制一个散点图\n",
    "a = np.arange(50)\n",
    "b = np.random.randn(50)*5 + a\n",
    "\n",
    "# 设置图例，在绘制散点图时传入label参数，再执行ax.legend()生成图例\n",
    "ax.scatter(a, b, c='#ffaa70', label='scatter')\n",
    "ax.legend()\n",
    "\n",
    "# 设置文字，文字并不支持Latex，支持上标^，下标_，以及希腊文字，例如：\\mu，\\pi，这些内容需放置在$$之间\n",
    "# 如果要使用LaTex，需要额外的设置，似乎挺麻烦的，最简便的方法是使用 snipaste贴图+截屏\n",
    "ax.set_xlabel('x label')\n",
    "ax.set_ylabel('y label')\n",
    "# 设置标题\n",
    "ax.set_title('a sample of scatter')\n",
    "# 设置文本，其中前两个参数为坐标轴上的坐标\n",
    "ax.text(5, 45, 'Dots gengerated by $f(x) {1}/(2\\pi)^{0.5} \\ \\ *\\ e^{{-x^2}/{2} } $')\n",
    "# 显示网格\n",
    "ax.grid(True)"
   ]
  },
  {
   "cell_type": "markdown",
   "metadata": {},
   "source": [
    "#### 直线、折线绘制"
   ]
  },
  {
   "cell_type": "code",
   "execution_count": null,
   "metadata": {},
   "outputs": [],
   "source": [
    "## 绘制折线图\n",
    "import numpy as np\n",
    "a = np.arange(50)\n",
    "fig, ((ax1, ax2),(ax3, ax4)) = plt.subplots(2,2, layout='constrained', figsize=(10,5))\n",
    "\n",
    "# 绘制折线图需要使用plot，这个函数会将所第一个数组作为横坐标，第二个数组作为纵坐标\n",
    "# 两个数组相同下标的元素组合成一个坐标，代表一个点，plot将所有的点依次进行连接\n",
    "\n",
    "# 绘制 y=x^2 ，以直代曲\n",
    "t = [i*i for i in np.arange(-5,5,0.2)]\n",
    "b = np.array(t)\n",
    "ax1.plot(a, b, c='#007fd4')\n",
    "\n",
    "# 绘制折线，纵坐标随机生成\n",
    "c = np.random.randn(50)*50\n",
    "ax2.plot((a-25)/5, c, c='#c586ac')\n",
    "\n",
    "# 绘制杂线，横纵坐标随机生成，依次连接生成的点\n",
    "d = np.random.randn(50)\n",
    "ax3.plot(c, d, c='#ce9178', linestyle='-')\n",
    "\n",
    "# 绘制一条直线需要提供两个点，这里两个点是(1,1)，(49,49)\n",
    "ax4.plot([1,49],[1,49], c='#3ebcb0')\n"
   ]
  },
  {
   "cell_type": "markdown",
   "metadata": {},
   "source": [
    "#### 饼图绘制"
   ]
  },
  {
   "cell_type": "code",
   "execution_count": null,
   "metadata": {},
   "outputs": [],
   "source": [
    "fig, ((ax1, ax2), (ax3, ax4)) = plt.subplots(2, 2, figsize=(10,10))\n"
   ]
  },
  {
   "cell_type": "markdown",
   "metadata": {},
   "source": [
    "### 三维图形绘制\n",
    "有两种方式可以创建三维坐标\n",
    "第一种方式向figure对象中添加三维坐标，使用add_subplot函数，但由于每次使用add_subplot函数便会覆盖之前绘制的图像，所以这种方式一次只能绘制一个三维坐标\n",
    "```python\n",
    "fig = plt.figure()\n",
    "add_subplot(projection='3d')\n",
    "```\n",
    "\n",
    "第二种方式是使用subplots函数，需要传入参数`subplot_kw={\"projection\": \"3d\"}`，这个参数最终会传递给figure对象。使用这种方式可以绘制多个三维坐标\n",
    "```python\n",
    "fig, (ax1,ax2) = plt.subplots(1, 2, subplot_kw={\"projection\": \"3d\"})\n",
    "```"
   ]
  },
  {
   "cell_type": "markdown",
   "metadata": {},
   "source": [
    "#### 绘制曲线&参数方程\n",
    "曲线的绘制都是以直代曲，即用一段段直线段相连来表示曲线，三维曲线也是如此，所以绘制三维曲线需要提供一组三维坐标，在使用matplotlib绘制时，这一组三维坐标分为三组，分别代表各个点在三个维度上的取值。\n",
    "\n",
    "在使用matplotlib绘制时，使用只含有一个参数的方程组的形式便于生成三个维度的点。例如：\n",
    " \\begin{cases}\n",
    " x = sin(t) \\\\\n",
    " y = cos(t) \\\\\n",
    " z = t^2\n",
    "\\end{cases}\n",
    "此时可以通过如下方式生成曲线上的点:\n",
    "```python\n",
    "t = np.arange(-5, 5, 0.5)\n",
    "x = np.sin(t)\n",
    "y = np.cos(t)\n",
    "z = t*t\n",
    "```\n",
    "但有时候三维曲线的形式是两个曲面的交线，例如：\n",
    "\\begin{cases}\n",
    " \\frac{x^2}{9} - \\frac{y^2}{4}  = z ,\\\\\n",
    " x^2- y = z \\space \\space \n",
    "\\end{cases}\n",
    "这个时候需要得到它的参数方程形式，可以用最简便的方式：\n",
    "\n",
    "step1：先消去变量z，得到曲线在XOY平面上的投影，即x和y的方程\n",
    "\\begin{align*}\n",
    "\\frac{3}{4}*x^2 = \\sqrt{y-\\frac{y^2}{9} } \n",
    "\\end{align*}\n",
    "step2：将x或y作为参数，这里取y为参数，再用y来表示x，得\n",
    "\\begin{align*}\n",
    "x = \\pm \\sqrt{\\frac{4}{3}(y-\\frac{y^2}{9})  } \n",
    "\\end{align*}\n",
    "如果令t=y，则x和y之间的参数方程为\n",
    "\\begin{cases}\n",
    "x = \\pm \\sqrt{\\frac{4}{3}(t-\\frac{t^2}{9})  }, \\\\\n",
    "y = t \\space  \\space \\space \\space \\space \\space \\space \\space \\space \\space \\space \\space \\space \\space \\space \\space \\space \\space \\space \\space \\space \\space \\space \\space \\space \n",
    "\\end{cases}\n",
    "\n",
    "step3：接着再用x和y来表示z，注意，此时$x=x(t);y=y(t)$，所以z可以用t来表示，由两个曲面方程，得\n",
    "\\begin{cases}\n",
    " z = x^2 - y \\\\\n",
    " 或 \\\\\n",
    "z=\\frac{x^2}{4} -\\frac{y^2}{9} \n",
    "\\end{cases}\n",
    "此时，便得到了该曲线的参数方程\n",
    "\\begin{cases}\n",
    "x = \\pm \\sqrt{\\frac{4}{3}(t-\\frac{t^2}{9})  }, \\\\\n",
    "y = t \\\\\n",
    "z = x(t)^2 - y(t) \n",
    "\\end{cases}\n",
    "\n",
    "再例如：\n",
    "\\begin{cases}\n",
    "x^2 + y^2 = 25 \\\\\n",
    "x + y + z = 0\n",
    "\\end{cases}\n",
    "第一个方程表示圆，可以轻易的得到它的参数方程：\n",
    "\\begin{cases}\n",
    "x = sin(t)\n",
    "y = cos(t)\n",
    "\\end{cases}\n",
    "再用$x(t)和y(t)$来表示z，由$x + y + z = 0$得\n",
    "\\begin{cases}\n",
    "x = sin(t) \\\\\n",
    "y = cos(t) \\\\\n",
    "z = -x(t) - y(t)\n",
    "\\end{cases}\n",
    "\n"
   ]
  },
  {
   "cell_type": "code",
   "execution_count": null,
   "metadata": {},
   "outputs": [],
   "source": [
    "# 曲线的绘制\n",
    "\n",
    "import numpy as np\n",
    "import matplotlib.pyplot as plt\n",
    "\n",
    "fig, (ax1, ax2, ax3) = plt.subplots(1, 3, figsize=(15,5), subplot_kw={\"projection\": \"3d\"})\n",
    "\n",
    "# 第一条曲线\n",
    "t = np.arange(-5, 5, 0.5)\n",
    "x = np.sin(t)\n",
    "y = np.cos(t)\n",
    "z = t*t\n",
    "ax1.plot(x, y, z, c='#007acc')\n",
    "\n",
    "# 第二条曲线， 这里仅绘制x>0的区域\n",
    "x = np.power( 4/3*(t-np.power(t,2)/9), 0.5)\n",
    "y = t\n",
    "z = np.power(x, 2) - y\n",
    "\n",
    "ax2.plot(x, y, z, c= '#ce916b')\n",
    "\n",
    "# 第三条曲线\n",
    "x = np.sin(t)\n",
    "y = np.cos(t)\n",
    "z = - x - y\n",
    "ax3.plot(x, y, z, c='#6a9955', label='circle')\n",
    "# 直线的绘制，只需要提供两个点在三个坐标上的取值\n",
    "ax3.plot([-2,2], [-2, 2], [-2, 2], label='line')\n",
    "\n",
    "ax.legend()\n",
    "\n",
    "plt.show()"
   ]
  },
  {
   "cell_type": "markdown",
   "metadata": {},
   "source": [
    "#### 绘制曲面\n",
    "matplotlib可以绘制多种曲面，暂时掌握用plot_surface来绘制曲面就足够了\n",
    "下面绘制的曲面有：马鞍面，平面，方程如下：\n",
    "\\begin{align*}\n",
    "\\frac{x^2}{4} - \\frac{y^2}{9} = z  和 x+y+z=0\n",
    "\\end{align*}\n",
    "\n",
    "在绘制的过程中需要先生成XOY平面上的二维网格\n",
    "```python\n",
    "x = np.arange(-5, 5, 0.5) # 共 10/0.5 = 20个点\n",
    "y = np.arange(-3, 3, 0.3) # 共 6/0.3 = 20个点\n",
    "X, Y = np.meshgrid(x, y)  # 二维网格的大小为20*20，X和Y的shape为(20, 20) ！！！\n",
    "```\n",
    "X即二维网格的所有点在x轴上的取值，Y即二维网格上所有点在y轴上的取值，再根据曲面方程生成z轴坐标，最后使用plot_surface函数进行绘制\n",
    "```python\n",
    "Z = np.power(X, 2)/4 - np.power(Y, 2)/9\n",
    "surf = ax1.plot_surface(X, Y, Z, linewidth=0, cmap=cm.coolwarm, antialiased=False)\n",
    "plt.show()\n",
    "```\n",
    "传递给plot_surface函数的三个参数X,Y,Z也就是将要绘制的点在三个坐标上的取值（需要注意X和Y是二维数组！！！），所以可以认为传递给plot_surface函数的其实也是一系列的点，**matplotlib中绘制面的基本思想也是以直代曲，即用平面代替曲面！！！**plot_surface函数会将相邻的三个点组成一个平面，即将平面作为图元，一个个平面组合成曲面。\n",
    "\n",
    "生成网格还有另一种方式，极坐标网格：\n",
    "```python\n",
    "radii = np.linspace(0.125, 1.0, 8)\n",
    "angles = np.linspace(0, 2*np.pi, 36, endpoint=False)[..., np.newaxis] # 包含端点\n",
    "\n",
    "x = (radii*np.cos(angles)).flatten()\n",
    "y = (radii*np.sin(angles)).flatten()\n",
    "```\n",
    "自然的，这种网格更适合极坐标方程，可以用plot_trisurface函数进行绘制，而前一种方式适合使用plot_surface函数进行绘制。\n"
   ]
  },
  {
   "cell_type": "code",
   "execution_count": null,
   "metadata": {},
   "outputs": [],
   "source": [
    "# 绘制曲面\n",
    "\n",
    "# 曲面的颜色可以通过cm来设定，如暖色调cm.coolwarm\n",
    "from matplotlib import cm\n",
    "\n",
    "fig, (ax1,ax2, ax3) = plt.subplots(1, 3, figsize=(20, 10),subplot_kw={\"projection\": \"3d\"})\n",
    "\n",
    "# 绘制马鞍面\n",
    "x = np.arange(-100, 100, 20) # x轴方向有 200/20 = 10 个点\n",
    "y = np.arange(-100, 100, 20) # y轴方向也有10个点\n",
    "# 网格总共有200*200个点，X、Y分别是这些点的横纵坐标，所以X和Y的shape都是(10,10)\n",
    "X, Y = np.meshgrid(x,y)\n",
    "Z = np.power(X, 2)/4 - np.power(Y, 2)/9\n",
    "surf = ax1.plot_surface(X, Y, Z, linewidth=0, cmap=cm.coolwarm, antialiased=False)\n",
    "\n",
    "# 绘制平面\n",
    "Z = - X - Y\n",
    "ax2.plot_surface(X, Y, Z, cmap=cm.coolwarm)\n",
    "# ax2.plot_trisurf(X, Y, Z)\n",
    "\n",
    "# 绘制杂面，Z轴坐标随机生成\n",
    "x = np.arange(-100, 100, 100)\n",
    "y = np.arange(-100, 100, 100) \n",
    "X, Y = np.meshgrid(x, y)\n",
    "Z =np.reshape( np.random.randn(2*2)*20, (2, 2))\n",
    "ax3.plot_surface(X, Y, Z, cmap=cm.coolwarm)\n",
    "\n",
    "\n",
    "# 加上颜色条指示高低\n",
    "fig.colorbar(surf, shrink=0.5, aspect=5)\n",
    "\n",
    "# 显示\n",
    "plt.show()\n"
   ]
  },
  {
   "cell_type": "markdown",
   "metadata": {},
   "source": [
    "观察上面曲面的纹理，这些曲面看上去是以四边形作为图元的，三个不共线的点可以确定一个面，但四个点反而有可能确定不了一个面，例如当四个点组成的两条线不共面时，这四个点不能确定一个面。**观察第三张图，plot_surface实际上是以三角形作为图元的，只不过相邻的两个三角形会涂成相同的颜色。**\n",
    "\n",
    "另一种绘制平面的方式是plot_trisurf函数，这个函数的输入是一维的，而不是像plot_surface是二维的，以下是其中一个例子"
   ]
  },
  {
   "cell_type": "markdown",
   "metadata": {},
   "source": [
    "##### 扩展：极坐标网格"
   ]
  },
  {
   "cell_type": "code",
   "execution_count": null,
   "metadata": {},
   "outputs": [],
   "source": [
    "# 使用plot_trisurf绘制马鞍面\n",
    "x = np.linspace(-100, 100, 100)\n",
    "y = np.linspace(-100, 100, 100)\n",
    "x, y = np.meshgrid(x, y) # 还是需要先生成网格\n",
    "X = x.flatten()\n",
    "Y = y.flatten()\n",
    "Z = np.power(X, 2)/4 - np.power(Y, 2)/9\n",
    "\n",
    "fig, (ax1, ax2, ax3) = plt.subplots(1, 3, figsize=(20,10), subplot_kw={\"projection\":'3d'})\n",
    "ax1.plot_trisurf(X, Y, Z)\n",
    "\n",
    "# 另一种生成网格的方式：极坐标网格\n",
    "radii = np.linspace(0.125, 1.0, 8)  # 这是半径r\n",
    "angles = np.linspace(0, 2*np.pi, 36, endpoint=True)[..., np.newaxis] # 这是角度，endpint=True表示生成的点中包含端点\n",
    "# 注意，需要添加[..., np.newaxis]，将angles扩展为二维，这样radii与angles相乘时才能使用numpy的广播机制\n",
    "\n",
    "# 使用plot_trisurf进行绘制\n",
    "x = (radii*np.cos(angles)).flatten()\n",
    "y = (radii*np.sin(angles)).flatten()\n",
    "z = np.sin(-x*y)\n",
    "ax2.plot_trisurf(x, y, z, linewidth=0.2, antialiased=True, cmap=cm.cool_r)\n",
    "\n",
    "# 改用plot_surface绘制\n",
    "x = radii*np.cos(angles)\n",
    "y = radii*np.sin(angles)\n",
    "z = np.sin(-x*y)\n",
    "ax3.plot_surface(x, y, z, cmap=cm.coolwarm)\n",
    "\n",
    "plt.show()"
   ]
  },
  {
   "cell_type": "code",
   "execution_count": null,
   "metadata": {},
   "outputs": [],
   "source": [
    "help(plt.show)"
   ]
  }
 ],
 "metadata": {
  "interpreter": {
   "hash": "a17d8fbc39f154724391315e19256412600de31bba27aef41cfe960effe5852b"
  },
  "kernelspec": {
   "display_name": "Python 3 (ipykernel)",
   "language": "python",
   "name": "python3"
  },
  "language_info": {
   "codemirror_mode": {
    "name": "ipython",
    "version": 3
   },
   "file_extension": ".py",
   "mimetype": "text/x-python",
   "name": "python",
   "nbconvert_exporter": "python",
   "pygments_lexer": "ipython3",
   "version": "3.9.7"
  }
 },
 "nbformat": 4,
 "nbformat_minor": 2
}
