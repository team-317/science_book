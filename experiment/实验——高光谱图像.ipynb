{
 "cells": [
  {
   "cell_type": "code",
   "execution_count": null,
   "metadata": {},
   "outputs": [],
   "source": [
    "# from matplotlib import image\n",
    "from scipy import io\n",
    "from matplotlib import pyplot as plt\n",
    "import numpy as np\n",
    "\n",
    "data = io.loadmat(\"../data/data.mat\")\n",
    "\n",
    "gt = data['GT']\n",
    "msi = data['MSI']\n",
    "hsi = data[\"HSI\"]\n",
    "\n",
    "current = hsi\n",
    "\n",
    "print(\"image shape: {}\".format(gt.shape))\n",
    "rows, cols = int(np.ceil(current.shape[2]/3)), 3\n",
    "\n",
    "plt.figure(figsize=(20, 100))\n",
    "\n",
    "for i in range(rows):\n",
    "    for j in range(cols):\n",
    "        index = i * cols + j + 1\n",
    "        try:\n",
    "            plt.subplot(rows, cols, index)\n",
    "            pass\n",
    "        except:\n",
    "            pass\n",
    "        plt.axis('off')\n",
    "        if index < current.shape[2]:\n",
    "            plt.imshow(current[:, :, index], cmap=\"gray\")\n",
    "\n",
    "plt.show()\n"
   ]
  },
  {
   "cell_type": "code",
   "execution_count": null,
   "metadata": {},
   "outputs": [],
   "source": [
    "data.keys()\n",
    "data['MSI'].shape, data['GT'].shape, data['R'].shape"
   ]
  }
 ],
 "metadata": {
  "kernelspec": {
   "display_name": "Python 3.10.4 ('remote_sensing')",
   "language": "python",
   "name": "python3"
  },
  "language_info": {
   "codemirror_mode": {
    "name": "ipython",
    "version": 3
   },
   "file_extension": ".py",
   "mimetype": "text/x-python",
   "name": "python",
   "nbconvert_exporter": "python",
   "pygments_lexer": "ipython3",
   "version": "3.9.13"
  },
  "orig_nbformat": 4,
  "vscode": {
   "interpreter": {
    "hash": "ce7705c1889eb06f9c0004de67bfde899b87e33e0d21e3dcf060d0fa5c5a6454"
   }
  }
 },
 "nbformat": 4,
 "nbformat_minor": 2
}
